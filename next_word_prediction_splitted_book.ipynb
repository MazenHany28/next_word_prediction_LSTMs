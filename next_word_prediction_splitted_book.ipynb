{
  "nbformat": 4,
  "nbformat_minor": 0,
  "metadata": {
    "colab": {
      "provenance": [],
      "gpuType": "T4"
    },
    "kernelspec": {
      "name": "python3",
      "display_name": "Python 3"
    },
    "language_info": {
      "name": "python"
    },
    "accelerator": "GPU"
  },
  "cells": [
    {
      "cell_type": "code",
      "execution_count": 1,
      "metadata": {
        "id": "5q3gJ5ypyN2U"
      },
      "outputs": [],
      "source": [
        "import tensorflow as tf\n",
        "from keras.preprocessing.text import Tokenizer\n",
        "from keras.layers import Embedding, LSTM, Dense\n",
        "from keras.models import Sequential\n",
        "from keras.utils import to_categorical\n",
        "from keras.optimizers import Adam\n",
        "import pickle\n",
        "import numpy as np\n",
        "import os\n",
        "import random"
      ]
    },
    {
      "cell_type": "code",
      "source": [
        "from google.colab import drive\n",
        "drive.mount('/content/drive')"
      ],
      "metadata": {
        "colab": {
          "base_uri": "https://localhost:8080/"
        },
        "id": "1Rnvm1p8UV6o",
        "outputId": "9144a2cd-a046-48cd-9678-c8775d0a833f"
      },
      "execution_count": 2,
      "outputs": [
        {
          "output_type": "stream",
          "name": "stdout",
          "text": [
            "Mounted at /content/drive\n"
          ]
        }
      ]
    },
    {
      "cell_type": "code",
      "source": [
        "file = open(\"/content/drive/MyDrive/text_prediction_model/Les_Miserables-Victor_Hugo.txt\", \"r\", encoding = \"utf8\")\n",
        "\n",
        "# store file in list\n",
        "lines = []\n",
        "for i in file:\n",
        "    lines.append(i)\n",
        "\n",
        "# Convert list to string\n",
        "data = \"\"\n",
        "for i in lines:\n",
        "  data = ' '. join(lines)\n",
        "\n",
        "#replace unnecessary stuff with space\n",
        "data = data.replace('\\n', '').replace('\\r', '').replace('\\ufeff', '').replace('“','').replace('”','')  #new line, carriage return, unicode character --> replace by space\n",
        "\n",
        "#remove unnecessary spaces\n",
        "data = data.split()\n",
        "data = ' '.join(data)\n",
        "data[1645:1750]\n"
      ],
      "metadata": {
        "colab": {
          "base_uri": "https://localhost:8080/",
          "height": 35
        },
        "id": "SRbKa9YoybR4",
        "outputId": "6953cd9e-e34e-4410-c158-90f4f3f38b72"
      },
      "execution_count": 3,
      "outputs": [
        {
          "output_type": "execute_result",
          "data": {
            "text/plain": [
              "\"All I need is a quiet corner somewhere. After dinner 'You can't eat here either,' the innkeeper interrupt\""
            ],
            "application/vnd.google.colaboratory.intrinsic+json": {
              "type": "string"
            }
          },
          "metadata": {},
          "execution_count": 3
        }
      ]
    },
    {
      "cell_type": "code",
      "source": [
        "len(data)"
      ],
      "metadata": {
        "colab": {
          "base_uri": "https://localhost:8080/"
        },
        "id": "OnqQORVb37n9",
        "outputId": "aa178e60-b0c2-4410-802a-8d575748d9b3"
      },
      "execution_count": 4,
      "outputs": [
        {
          "output_type": "execute_result",
          "data": {
            "text/plain": [
              "165909"
            ]
          },
          "metadata": {},
          "execution_count": 4
        }
      ]
    },
    {
      "cell_type": "code",
      "source": [
        "tokenizer = Tokenizer()\n",
        "tokenizer.fit_on_texts([data])\n",
        "\n",
        "# saving the tokenizer for predict function\n",
        "pickle.dump(tokenizer, open('/content/drive/MyDrive/text_prediction_model/token.pkl', 'wb'))\n",
        "\n",
        "sequence_data = tokenizer.texts_to_sequences([data])[0]\n",
        "sequence_data[:15]"
      ],
      "metadata": {
        "colab": {
          "base_uri": "https://localhost:8080/"
        },
        "id": "hTd62mFv3-3-",
        "outputId": "e464c5d3-b2b6-4cda-840d-d7dad97afb22"
      },
      "execution_count": 5,
      "outputs": [
        {
          "output_type": "execute_result",
          "data": {
            "text/plain": [
              "[313, 38, 73, 26, 38, 107, 10, 1856, 1101, 60, 390, 119, 1377, 6, 27]"
            ]
          },
          "metadata": {},
          "execution_count": 5
        }
      ]
    },
    {
      "cell_type": "code",
      "source": [
        "len(sequence_data)"
      ],
      "metadata": {
        "colab": {
          "base_uri": "https://localhost:8080/"
        },
        "id": "pFTiPS3t4wol",
        "outputId": "fb3ad883-cdfc-44d7-db9a-51873244fae4"
      },
      "execution_count": 6,
      "outputs": [
        {
          "output_type": "execute_result",
          "data": {
            "text/plain": [
              "30927"
            ]
          },
          "metadata": {},
          "execution_count": 6
        }
      ]
    },
    {
      "cell_type": "code",
      "source": [
        "vocab_size = len(tokenizer.word_index) + 1\n",
        "print(vocab_size)"
      ],
      "metadata": {
        "colab": {
          "base_uri": "https://localhost:8080/"
        },
        "id": "bdkP5arJ4zPX",
        "outputId": "b4762179-5bf3-4d84-8b3e-32db4f214207"
      },
      "execution_count": 7,
      "outputs": [
        {
          "output_type": "stream",
          "name": "stdout",
          "text": [
            "2923\n"
          ]
        }
      ]
    },
    {
      "cell_type": "code",
      "source": [
        "sequences = []\n",
        "\n",
        "for i in range(3, len(sequence_data)):\n",
        "    words = sequence_data[i-3:i+1]\n",
        "    sequences.append(words)\n",
        "\n",
        "print(\"The Length of sequences are: \", len(sequences))\n",
        "sequences = np.array(sequences)\n",
        "sequences[:10]"
      ],
      "metadata": {
        "colab": {
          "base_uri": "https://localhost:8080/"
        },
        "id": "m_wN0wBQ5KlI",
        "outputId": "f1262fe3-acde-4444-d49e-f33bab172080"
      },
      "execution_count": 8,
      "outputs": [
        {
          "output_type": "stream",
          "name": "stdout",
          "text": [
            "The Length of sequences are:  30924\n"
          ]
        },
        {
          "output_type": "execute_result",
          "data": {
            "text/plain": [
              "array([[ 313,   38,   73,   26],\n",
              "       [  38,   73,   26,   38],\n",
              "       [  73,   26,   38,  107],\n",
              "       [  26,   38,  107,   10],\n",
              "       [  38,  107,   10, 1856],\n",
              "       [ 107,   10, 1856, 1101],\n",
              "       [  10, 1856, 1101,   60],\n",
              "       [1856, 1101,   60,  390],\n",
              "       [1101,   60,  390,  119],\n",
              "       [  60,  390,  119, 1377]])"
            ]
          },
          "metadata": {},
          "execution_count": 8
        }
      ]
    },
    {
      "cell_type": "code",
      "source": [
        "X = []\n",
        "y = []\n",
        "\n",
        "for i in sequences:\n",
        "    X.append(i[0:3])\n",
        "    y.append(i[3])\n",
        "\n",
        "X = np.array(X)\n",
        "y = np.array(y)\n",
        "print(\"Data: \", X[:10])\n",
        "print(\"Response: \", y[:10])\n",
        "y = to_categorical(y, num_classes=vocab_size)\n",
        "y[:5]"
      ],
      "metadata": {
        "colab": {
          "base_uri": "https://localhost:8080/"
        },
        "id": "mMQs6SXz5Ryd",
        "outputId": "8fe33dd3-940f-4496-8e1d-f76c22ea07ca"
      },
      "execution_count": 9,
      "outputs": [
        {
          "output_type": "stream",
          "name": "stdout",
          "text": [
            "Data:  [[ 313   38   73]\n",
            " [  38   73   26]\n",
            " [  73   26   38]\n",
            " [  26   38  107]\n",
            " [  38  107   10]\n",
            " [ 107   10 1856]\n",
            " [  10 1856 1101]\n",
            " [1856 1101   60]\n",
            " [1101   60  390]\n",
            " [  60  390  119]]\n",
            "Response:  [  26   38  107   10 1856 1101   60  390  119 1377]\n"
          ]
        },
        {
          "output_type": "execute_result",
          "data": {
            "text/plain": [
              "array([[0., 0., 0., ..., 0., 0., 0.],\n",
              "       [0., 0., 0., ..., 0., 0., 0.],\n",
              "       [0., 0., 0., ..., 0., 0., 0.],\n",
              "       [0., 0., 0., ..., 0., 0., 0.],\n",
              "       [0., 0., 0., ..., 0., 0., 0.]], dtype=float32)"
            ]
          },
          "metadata": {},
          "execution_count": 9
        }
      ]
    },
    {
      "cell_type": "code",
      "source": [
        "from sklearn.model_selection import train_test_split\n",
        "x_train, x_test, y_train, y_test = train_test_split(X, y, test_size=0.1, random_state=42)\n",
        "print(f\"number of training data samples: {len(y_train)} , number of testing data samples: {len(y_test)}\")"
      ],
      "metadata": {
        "colab": {
          "base_uri": "https://localhost:8080/"
        },
        "id": "LQ2I9oJzD2BN",
        "outputId": "78b7cb57-6956-4cfa-a425-568571e056ec"
      },
      "execution_count": 11,
      "outputs": [
        {
          "output_type": "stream",
          "name": "stdout",
          "text": [
            "number of training data samples: 27831 , number of testing data samples: 3093\n"
          ]
        }
      ]
    },
    {
      "cell_type": "code",
      "source": [],
      "metadata": {
        "id": "0XlJFflFPx9p"
      },
      "execution_count": null,
      "outputs": []
    },
    {
      "cell_type": "code",
      "source": [
        "model = Sequential()\n",
        "model.add(Embedding(vocab_size, 10, input_length=3))\n",
        "model.add(LSTM(1000, return_sequences=True))\n",
        "model.add(LSTM(1000))\n",
        "model.add(Dense(1000, activation=\"relu\"))\n",
        "model.add(Dense(vocab_size, activation=\"softmax\"))\n",
        "model.summary()"
      ],
      "metadata": {
        "colab": {
          "base_uri": "https://localhost:8080/"
        },
        "id": "TmCHZ1FY6MB9",
        "outputId": "74c3e7ae-228f-4699-9e40-01cacaecdde8"
      },
      "execution_count": 12,
      "outputs": [
        {
          "output_type": "stream",
          "name": "stdout",
          "text": [
            "Model: \"sequential\"\n",
            "_________________________________________________________________\n",
            " Layer (type)                Output Shape              Param #   \n",
            "=================================================================\n",
            " embedding (Embedding)       (None, 3, 10)             29230     \n",
            "                                                                 \n",
            " lstm (LSTM)                 (None, 3, 1000)           4044000   \n",
            "                                                                 \n",
            " lstm_1 (LSTM)               (None, 1000)              8004000   \n",
            "                                                                 \n",
            " dense (Dense)               (None, 1000)              1001000   \n",
            "                                                                 \n",
            " dense_1 (Dense)             (None, 2923)              2925923   \n",
            "                                                                 \n",
            "=================================================================\n",
            "Total params: 16004153 (61.05 MB)\n",
            "Trainable params: 16004153 (61.05 MB)\n",
            "Non-trainable params: 0 (0.00 Byte)\n",
            "_________________________________________________________________\n"
          ]
        }
      ]
    },
    {
      "cell_type": "code",
      "source": [
        "from keras.callbacks import ModelCheckpoint\n",
        "\n",
        "checkpoint = ModelCheckpoint(\"/content/drive/MyDrive/text_prediction_model/next_words_splitted.h5\", monitor='loss', verbose=1, save_best_only=True)\n",
        "model.compile(metrics=['accuracy'],loss=\"categorical_crossentropy\", optimizer=Adam(learning_rate=0.001))\n",
        "history=model.fit(X, y, epochs=150, batch_size=64, callbacks=[checkpoint])"
      ],
      "metadata": {
        "colab": {
          "base_uri": "https://localhost:8080/"
        },
        "id": "a9BBH4Ca6kfi",
        "outputId": "d8594212-5556-4005-d0c8-557469a7c6bb"
      },
      "execution_count": 13,
      "outputs": [
        {
          "output_type": "stream",
          "name": "stdout",
          "text": [
            "Epoch 1/150\n",
            "484/484 [==============================] - ETA: 0s - loss: 6.3868 - accuracy: 0.0561\n",
            "Epoch 1: loss improved from inf to 6.38676, saving model to /content/drive/MyDrive/text_prediction_model/next_words_splitted.h5\n"
          ]
        },
        {
          "output_type": "stream",
          "name": "stderr",
          "text": [
            "/usr/local/lib/python3.10/dist-packages/keras/src/engine/training.py:3103: UserWarning: You are saving your model as an HDF5 file via `model.save()`. This file format is considered legacy. We recommend using instead the native Keras format, e.g. `model.save('my_model.keras')`.\n",
            "  saving_api.save_model(\n"
          ]
        },
        {
          "output_type": "stream",
          "name": "stdout",
          "text": [
            "\b\b\b\b\b\b\b\b\b\b\b\b\b\b\b\b\b\b\b\b\b\b\b\b\b\b\b\b\b\b\b\b\b\b\b\b\b\b\b\b\b\b\b\b\b\b\b\b\b\b\b\b\b\b\b\b\b\b\b\b\b\b\b\b\b\b\b\b\b\b\b\b\b\b\b\b\b\b\b\b\b\b\b\b\r484/484 [==============================] - 19s 26ms/step - loss: 6.3868 - accuracy: 0.0561\n",
            "Epoch 2/150\n",
            "482/484 [============================>.] - ETA: 0s - loss: 5.9213 - accuracy: 0.0687\n",
            "Epoch 2: loss improved from 6.38676 to 5.92173, saving model to /content/drive/MyDrive/text_prediction_model/next_words_splitted.h5\n",
            "484/484 [==============================] - 8s 17ms/step - loss: 5.9217 - accuracy: 0.0687\n",
            "Epoch 3/150\n",
            "484/484 [==============================] - ETA: 0s - loss: 5.6227 - accuracy: 0.0836\n",
            "Epoch 3: loss improved from 5.92173 to 5.62268, saving model to /content/drive/MyDrive/text_prediction_model/next_words_splitted.h5\n",
            "484/484 [==============================] - 9s 18ms/step - loss: 5.6227 - accuracy: 0.0836\n",
            "Epoch 4/150\n",
            "484/484 [==============================] - ETA: 0s - loss: 5.2901 - accuracy: 0.1089\n",
            "Epoch 4: loss improved from 5.62268 to 5.29010, saving model to /content/drive/MyDrive/text_prediction_model/next_words_splitted.h5\n",
            "484/484 [==============================] - 9s 19ms/step - loss: 5.2901 - accuracy: 0.1089\n",
            "Epoch 5/150\n",
            "484/484 [==============================] - ETA: 0s - loss: 4.9704 - accuracy: 0.1298\n",
            "Epoch 5: loss improved from 5.29010 to 4.97042, saving model to /content/drive/MyDrive/text_prediction_model/next_words_splitted.h5\n",
            "484/484 [==============================] - 8s 18ms/step - loss: 4.9704 - accuracy: 0.1298\n",
            "Epoch 6/150\n",
            "483/484 [============================>.] - ETA: 0s - loss: 4.7026 - accuracy: 0.1462\n",
            "Epoch 6: loss improved from 4.97042 to 4.70205, saving model to /content/drive/MyDrive/text_prediction_model/next_words_splitted.h5\n",
            "484/484 [==============================] - 9s 18ms/step - loss: 4.7020 - accuracy: 0.1462\n",
            "Epoch 7/150\n",
            "484/484 [==============================] - ETA: 0s - loss: 4.4623 - accuracy: 0.1574\n",
            "Epoch 7: loss improved from 4.70205 to 4.46233, saving model to /content/drive/MyDrive/text_prediction_model/next_words_splitted.h5\n",
            "484/484 [==============================] - 9s 18ms/step - loss: 4.4623 - accuracy: 0.1574\n",
            "Epoch 8/150\n",
            "483/484 [============================>.] - ETA: 0s - loss: 4.2300 - accuracy: 0.1708\n",
            "Epoch 8: loss improved from 4.46233 to 4.22968, saving model to /content/drive/MyDrive/text_prediction_model/next_words_splitted.h5\n",
            "484/484 [==============================] - 8s 17ms/step - loss: 4.2297 - accuracy: 0.1708\n",
            "Epoch 9/150\n",
            "483/484 [============================>.] - ETA: 0s - loss: 3.9884 - accuracy: 0.1873\n",
            "Epoch 9: loss improved from 4.22968 to 3.98832, saving model to /content/drive/MyDrive/text_prediction_model/next_words_splitted.h5\n",
            "484/484 [==============================] - 9s 18ms/step - loss: 3.9883 - accuracy: 0.1872\n",
            "Epoch 10/150\n",
            "482/484 [============================>.] - ETA: 0s - loss: 3.7261 - accuracy: 0.2045\n",
            "Epoch 10: loss improved from 3.98832 to 3.72641, saving model to /content/drive/MyDrive/text_prediction_model/next_words_splitted.h5\n",
            "484/484 [==============================] - 8s 17ms/step - loss: 3.7264 - accuracy: 0.2044\n",
            "Epoch 11/150\n",
            "484/484 [==============================] - ETA: 0s - loss: 3.4538 - accuracy: 0.2288\n",
            "Epoch 11: loss improved from 3.72641 to 3.45383, saving model to /content/drive/MyDrive/text_prediction_model/next_words_splitted.h5\n",
            "484/484 [==============================] - 9s 18ms/step - loss: 3.4538 - accuracy: 0.2288\n",
            "Epoch 12/150\n",
            "483/484 [============================>.] - ETA: 0s - loss: 3.1742 - accuracy: 0.2652\n",
            "Epoch 12: loss improved from 3.45383 to 3.17429, saving model to /content/drive/MyDrive/text_prediction_model/next_words_splitted.h5\n",
            "484/484 [==============================] - 8s 18ms/step - loss: 3.1743 - accuracy: 0.2652\n",
            "Epoch 13/150\n",
            "484/484 [==============================] - ETA: 0s - loss: 2.8986 - accuracy: 0.3016\n",
            "Epoch 13: loss improved from 3.17429 to 2.89860, saving model to /content/drive/MyDrive/text_prediction_model/next_words_splitted.h5\n",
            "484/484 [==============================] - 8s 17ms/step - loss: 2.8986 - accuracy: 0.3016\n",
            "Epoch 14/150\n",
            "484/484 [==============================] - ETA: 0s - loss: 2.6232 - accuracy: 0.3469\n",
            "Epoch 14: loss improved from 2.89860 to 2.62315, saving model to /content/drive/MyDrive/text_prediction_model/next_words_splitted.h5\n",
            "484/484 [==============================] - 9s 18ms/step - loss: 2.6232 - accuracy: 0.3469\n",
            "Epoch 15/150\n",
            "481/484 [============================>.] - ETA: 0s - loss: 2.3634 - accuracy: 0.3923\n",
            "Epoch 15: loss improved from 2.62315 to 2.36407, saving model to /content/drive/MyDrive/text_prediction_model/next_words_splitted.h5\n",
            "484/484 [==============================] - 9s 18ms/step - loss: 2.3641 - accuracy: 0.3921\n",
            "Epoch 16/150\n",
            "483/484 [============================>.] - ETA: 0s - loss: 2.1141 - accuracy: 0.4413\n",
            "Epoch 16: loss improved from 2.36407 to 2.11435, saving model to /content/drive/MyDrive/text_prediction_model/next_words_splitted.h5\n",
            "484/484 [==============================] - 8s 17ms/step - loss: 2.1144 - accuracy: 0.4413\n",
            "Epoch 17/150\n",
            "482/484 [============================>.] - ETA: 0s - loss: 1.8778 - accuracy: 0.4923\n",
            "Epoch 17: loss improved from 2.11435 to 1.87775, saving model to /content/drive/MyDrive/text_prediction_model/next_words_splitted.h5\n",
            "484/484 [==============================] - 8s 17ms/step - loss: 1.8777 - accuracy: 0.4922\n",
            "Epoch 18/150\n",
            "482/484 [============================>.] - ETA: 0s - loss: 1.6497 - accuracy: 0.5462\n",
            "Epoch 18: loss improved from 1.87775 to 1.64993, saving model to /content/drive/MyDrive/text_prediction_model/next_words_splitted.h5\n",
            "484/484 [==============================] - 8s 17ms/step - loss: 1.6499 - accuracy: 0.5463\n",
            "Epoch 19/150\n",
            "484/484 [==============================] - ETA: 0s - loss: 1.4494 - accuracy: 0.5963\n",
            "Epoch 19: loss improved from 1.64993 to 1.44944, saving model to /content/drive/MyDrive/text_prediction_model/next_words_splitted.h5\n",
            "484/484 [==============================] - 8s 17ms/step - loss: 1.4494 - accuracy: 0.5963\n",
            "Epoch 20/150\n",
            "482/484 [============================>.] - ETA: 0s - loss: 1.2621 - accuracy: 0.6461\n",
            "Epoch 20: loss improved from 1.44944 to 1.26207, saving model to /content/drive/MyDrive/text_prediction_model/next_words_splitted.h5\n",
            "484/484 [==============================] - 9s 18ms/step - loss: 1.2621 - accuracy: 0.6461\n",
            "Epoch 21/150\n",
            "484/484 [==============================] - ETA: 0s - loss: 1.1044 - accuracy: 0.6885\n",
            "Epoch 21: loss improved from 1.26207 to 1.10443, saving model to /content/drive/MyDrive/text_prediction_model/next_words_splitted.h5\n",
            "484/484 [==============================] - 8s 17ms/step - loss: 1.1044 - accuracy: 0.6885\n",
            "Epoch 22/150\n",
            "481/484 [============================>.] - ETA: 0s - loss: 0.9673 - accuracy: 0.7281\n",
            "Epoch 22: loss improved from 1.10443 to 0.96734, saving model to /content/drive/MyDrive/text_prediction_model/next_words_splitted.h5\n",
            "484/484 [==============================] - 8s 17ms/step - loss: 0.9673 - accuracy: 0.7279\n",
            "Epoch 23/150\n",
            "481/484 [============================>.] - ETA: 0s - loss: 0.8501 - accuracy: 0.7620\n",
            "Epoch 23: loss improved from 0.96734 to 0.85058, saving model to /content/drive/MyDrive/text_prediction_model/next_words_splitted.h5\n",
            "484/484 [==============================] - 9s 18ms/step - loss: 0.8506 - accuracy: 0.7617\n",
            "Epoch 24/150\n",
            "482/484 [============================>.] - ETA: 0s - loss: 0.7584 - accuracy: 0.7899\n",
            "Epoch 24: loss improved from 0.85058 to 0.75839, saving model to /content/drive/MyDrive/text_prediction_model/next_words_splitted.h5\n",
            "484/484 [==============================] - 8s 17ms/step - loss: 0.7584 - accuracy: 0.7899\n",
            "Epoch 25/150\n",
            "482/484 [============================>.] - ETA: 0s - loss: 0.6881 - accuracy: 0.8092\n",
            "Epoch 25: loss improved from 0.75839 to 0.68856, saving model to /content/drive/MyDrive/text_prediction_model/next_words_splitted.h5\n",
            "484/484 [==============================] - 9s 18ms/step - loss: 0.6886 - accuracy: 0.8091\n",
            "Epoch 26/150\n",
            "481/484 [============================>.] - ETA: 0s - loss: 0.6323 - accuracy: 0.8248\n",
            "Epoch 26: loss improved from 0.68856 to 0.63327, saving model to /content/drive/MyDrive/text_prediction_model/next_words_splitted.h5\n",
            "484/484 [==============================] - 8s 17ms/step - loss: 0.6333 - accuracy: 0.8244\n",
            "Epoch 27/150\n",
            "481/484 [============================>.] - ETA: 0s - loss: 0.5923 - accuracy: 0.8352\n",
            "Epoch 27: loss improved from 0.63327 to 0.59264, saving model to /content/drive/MyDrive/text_prediction_model/next_words_splitted.h5\n",
            "484/484 [==============================] - 8s 17ms/step - loss: 0.5926 - accuracy: 0.8353\n",
            "Epoch 28/150\n",
            "482/484 [============================>.] - ETA: 0s - loss: 0.5553 - accuracy: 0.8455\n",
            "Epoch 28: loss improved from 0.59264 to 0.55576, saving model to /content/drive/MyDrive/text_prediction_model/next_words_splitted.h5\n",
            "484/484 [==============================] - 8s 17ms/step - loss: 0.5558 - accuracy: 0.8453\n",
            "Epoch 29/150\n",
            "482/484 [============================>.] - ETA: 0s - loss: 0.5294 - accuracy: 0.8520\n",
            "Epoch 29: loss improved from 0.55576 to 0.52961, saving model to /content/drive/MyDrive/text_prediction_model/next_words_splitted.h5\n",
            "484/484 [==============================] - 8s 17ms/step - loss: 0.5296 - accuracy: 0.8520\n",
            "Epoch 30/150\n",
            "483/484 [============================>.] - ETA: 0s - loss: 0.5065 - accuracy: 0.8557\n",
            "Epoch 30: loss improved from 0.52961 to 0.50657, saving model to /content/drive/MyDrive/text_prediction_model/next_words_splitted.h5\n",
            "484/484 [==============================] - 8s 17ms/step - loss: 0.5066 - accuracy: 0.8556\n",
            "Epoch 31/150\n",
            "482/484 [============================>.] - ETA: 0s - loss: 0.4891 - accuracy: 0.8565\n",
            "Epoch 31: loss improved from 0.50657 to 0.48957, saving model to /content/drive/MyDrive/text_prediction_model/next_words_splitted.h5\n",
            "484/484 [==============================] - 8s 17ms/step - loss: 0.4896 - accuracy: 0.8564\n",
            "Epoch 32/150\n",
            "482/484 [============================>.] - ETA: 0s - loss: 0.4750 - accuracy: 0.8609\n",
            "Epoch 32: loss improved from 0.48957 to 0.47502, saving model to /content/drive/MyDrive/text_prediction_model/next_words_splitted.h5\n",
            "484/484 [==============================] - 8s 18ms/step - loss: 0.4750 - accuracy: 0.8609\n",
            "Epoch 33/150\n",
            "484/484 [==============================] - ETA: 0s - loss: 0.4616 - accuracy: 0.8631\n",
            "Epoch 33: loss improved from 0.47502 to 0.46161, saving model to /content/drive/MyDrive/text_prediction_model/next_words_splitted.h5\n",
            "484/484 [==============================] - 9s 18ms/step - loss: 0.4616 - accuracy: 0.8631\n",
            "Epoch 34/150\n",
            "484/484 [==============================] - ETA: 0s - loss: 0.4511 - accuracy: 0.8627\n",
            "Epoch 34: loss improved from 0.46161 to 0.45114, saving model to /content/drive/MyDrive/text_prediction_model/next_words_splitted.h5\n",
            "484/484 [==============================] - 8s 17ms/step - loss: 0.4511 - accuracy: 0.8627\n",
            "Epoch 35/150\n",
            "482/484 [============================>.] - ETA: 0s - loss: 0.4263 - accuracy: 0.8685\n",
            "Epoch 35: loss improved from 0.45114 to 0.42643, saving model to /content/drive/MyDrive/text_prediction_model/next_words_splitted.h5\n",
            "484/484 [==============================] - 8s 17ms/step - loss: 0.4264 - accuracy: 0.8684\n",
            "Epoch 36/150\n",
            "484/484 [==============================] - ETA: 0s - loss: 0.4227 - accuracy: 0.8686\n",
            "Epoch 36: loss improved from 0.42643 to 0.42274, saving model to /content/drive/MyDrive/text_prediction_model/next_words_splitted.h5\n",
            "484/484 [==============================] - 8s 17ms/step - loss: 0.4227 - accuracy: 0.8686\n",
            "Epoch 37/150\n",
            "483/484 [============================>.] - ETA: 0s - loss: 0.4154 - accuracy: 0.8684\n",
            "Epoch 37: loss improved from 0.42274 to 0.41537, saving model to /content/drive/MyDrive/text_prediction_model/next_words_splitted.h5\n",
            "484/484 [==============================] - 9s 18ms/step - loss: 0.4154 - accuracy: 0.8684\n",
            "Epoch 38/150\n",
            "482/484 [============================>.] - ETA: 0s - loss: 0.4098 - accuracy: 0.8698\n",
            "Epoch 38: loss improved from 0.41537 to 0.40985, saving model to /content/drive/MyDrive/text_prediction_model/next_words_splitted.h5\n",
            "484/484 [==============================] - 9s 18ms/step - loss: 0.4099 - accuracy: 0.8696\n",
            "Epoch 39/150\n",
            "484/484 [==============================] - ETA: 0s - loss: 0.4042 - accuracy: 0.8687\n",
            "Epoch 39: loss improved from 0.40985 to 0.40423, saving model to /content/drive/MyDrive/text_prediction_model/next_words_splitted.h5\n",
            "484/484 [==============================] - 9s 18ms/step - loss: 0.4042 - accuracy: 0.8687\n",
            "Epoch 40/150\n",
            "484/484 [==============================] - ETA: 0s - loss: 0.3990 - accuracy: 0.8680\n",
            "Epoch 40: loss improved from 0.40423 to 0.39901, saving model to /content/drive/MyDrive/text_prediction_model/next_words_splitted.h5\n",
            "484/484 [==============================] - 9s 18ms/step - loss: 0.3990 - accuracy: 0.8680\n",
            "Epoch 41/150\n",
            "484/484 [==============================] - ETA: 0s - loss: 0.3825 - accuracy: 0.8721\n",
            "Epoch 41: loss improved from 0.39901 to 0.38252, saving model to /content/drive/MyDrive/text_prediction_model/next_words_splitted.h5\n",
            "484/484 [==============================] - 9s 18ms/step - loss: 0.3825 - accuracy: 0.8721\n",
            "Epoch 42/150\n",
            "482/484 [============================>.] - ETA: 0s - loss: 0.3772 - accuracy: 0.8705\n",
            "Epoch 42: loss improved from 0.38252 to 0.37708, saving model to /content/drive/MyDrive/text_prediction_model/next_words_splitted.h5\n",
            "484/484 [==============================] - 8s 17ms/step - loss: 0.3771 - accuracy: 0.8706\n",
            "Epoch 43/150\n",
            "484/484 [==============================] - ETA: 0s - loss: 0.3661 - accuracy: 0.8736\n",
            "Epoch 43: loss improved from 0.37708 to 0.36609, saving model to /content/drive/MyDrive/text_prediction_model/next_words_splitted.h5\n",
            "484/484 [==============================] - 9s 18ms/step - loss: 0.3661 - accuracy: 0.8736\n",
            "Epoch 44/150\n",
            "481/484 [============================>.] - ETA: 0s - loss: 0.3653 - accuracy: 0.8721\n",
            "Epoch 44: loss improved from 0.36609 to 0.36586, saving model to /content/drive/MyDrive/text_prediction_model/next_words_splitted.h5\n",
            "484/484 [==============================] - 8s 17ms/step - loss: 0.3659 - accuracy: 0.8719\n",
            "Epoch 45/150\n",
            "483/484 [============================>.] - ETA: 0s - loss: 0.3676 - accuracy: 0.8714\n",
            "Epoch 45: loss did not improve from 0.36586\n",
            "484/484 [==============================] - 8s 16ms/step - loss: 0.3676 - accuracy: 0.8714\n",
            "Epoch 46/150\n",
            "484/484 [==============================] - ETA: 0s - loss: 0.3635 - accuracy: 0.8697\n",
            "Epoch 46: loss improved from 0.36586 to 0.36352, saving model to /content/drive/MyDrive/text_prediction_model/next_words_splitted.h5\n",
            "484/484 [==============================] - 10s 20ms/step - loss: 0.3635 - accuracy: 0.8697\n",
            "Epoch 47/150\n",
            "482/484 [============================>.] - ETA: 0s - loss: 0.3548 - accuracy: 0.8724\n",
            "Epoch 47: loss improved from 0.36352 to 0.35512, saving model to /content/drive/MyDrive/text_prediction_model/next_words_splitted.h5\n",
            "484/484 [==============================] - 8s 17ms/step - loss: 0.3551 - accuracy: 0.8721\n",
            "Epoch 48/150\n",
            "484/484 [==============================] - ETA: 0s - loss: 0.3392 - accuracy: 0.8752\n",
            "Epoch 48: loss improved from 0.35512 to 0.33925, saving model to /content/drive/MyDrive/text_prediction_model/next_words_splitted.h5\n",
            "484/484 [==============================] - 9s 18ms/step - loss: 0.3392 - accuracy: 0.8752\n",
            "Epoch 49/150\n",
            "483/484 [============================>.] - ETA: 0s - loss: 0.3337 - accuracy: 0.8739\n",
            "Epoch 49: loss improved from 0.33925 to 0.33358, saving model to /content/drive/MyDrive/text_prediction_model/next_words_splitted.h5\n",
            "484/484 [==============================] - 9s 18ms/step - loss: 0.3336 - accuracy: 0.8739\n",
            "Epoch 50/150\n",
            "484/484 [==============================] - ETA: 0s - loss: 0.3319 - accuracy: 0.8745\n",
            "Epoch 50: loss improved from 0.33358 to 0.33187, saving model to /content/drive/MyDrive/text_prediction_model/next_words_splitted.h5\n",
            "484/484 [==============================] - 8s 17ms/step - loss: 0.3319 - accuracy: 0.8745\n",
            "Epoch 51/150\n",
            "482/484 [============================>.] - ETA: 0s - loss: 0.3266 - accuracy: 0.8752\n",
            "Epoch 51: loss improved from 0.33187 to 0.32692, saving model to /content/drive/MyDrive/text_prediction_model/next_words_splitted.h5\n",
            "484/484 [==============================] - 9s 18ms/step - loss: 0.3269 - accuracy: 0.8750\n",
            "Epoch 52/150\n",
            "483/484 [============================>.] - ETA: 0s - loss: 0.3199 - accuracy: 0.8755\n",
            "Epoch 52: loss improved from 0.32692 to 0.31983, saving model to /content/drive/MyDrive/text_prediction_model/next_words_splitted.h5\n",
            "484/484 [==============================] - 9s 18ms/step - loss: 0.3198 - accuracy: 0.8755\n",
            "Epoch 53/150\n",
            "484/484 [==============================] - ETA: 0s - loss: 0.3232 - accuracy: 0.8751\n",
            "Epoch 53: loss did not improve from 0.31983\n",
            "484/484 [==============================] - 8s 16ms/step - loss: 0.3232 - accuracy: 0.8751\n",
            "Epoch 54/150\n",
            "482/484 [============================>.] - ETA: 0s - loss: 0.3349 - accuracy: 0.8698\n",
            "Epoch 54: loss did not improve from 0.31983\n",
            "484/484 [==============================] - 8s 16ms/step - loss: 0.3348 - accuracy: 0.8698\n",
            "Epoch 55/150\n",
            "482/484 [============================>.] - ETA: 0s - loss: 0.3288 - accuracy: 0.8721\n",
            "Epoch 55: loss did not improve from 0.31983\n",
            "484/484 [==============================] - 8s 16ms/step - loss: 0.3287 - accuracy: 0.8721\n",
            "Epoch 56/150\n",
            "484/484 [==============================] - ETA: 0s - loss: 0.3095 - accuracy: 0.8752\n",
            "Epoch 56: loss improved from 0.31983 to 0.30947, saving model to /content/drive/MyDrive/text_prediction_model/next_words_splitted.h5\n",
            "484/484 [==============================] - 10s 20ms/step - loss: 0.3095 - accuracy: 0.8752\n",
            "Epoch 57/150\n",
            "483/484 [============================>.] - ETA: 0s - loss: 0.3022 - accuracy: 0.8754\n",
            "Epoch 57: loss improved from 0.30947 to 0.30221, saving model to /content/drive/MyDrive/text_prediction_model/next_words_splitted.h5\n",
            "484/484 [==============================] - 8s 17ms/step - loss: 0.3022 - accuracy: 0.8754\n",
            "Epoch 58/150\n",
            "482/484 [============================>.] - ETA: 0s - loss: 0.3093 - accuracy: 0.8736\n",
            "Epoch 58: loss did not improve from 0.30221\n",
            "484/484 [==============================] - 8s 16ms/step - loss: 0.3095 - accuracy: 0.8735\n",
            "Epoch 59/150\n",
            "481/484 [============================>.] - ETA: 0s - loss: 0.3063 - accuracy: 0.8751\n",
            "Epoch 59: loss did not improve from 0.30221\n",
            "484/484 [==============================] - 8s 16ms/step - loss: 0.3066 - accuracy: 0.8749\n",
            "Epoch 60/150\n",
            "482/484 [============================>.] - ETA: 0s - loss: 0.3184 - accuracy: 0.8715\n",
            "Epoch 60: loss did not improve from 0.30221\n",
            "484/484 [==============================] - 7s 15ms/step - loss: 0.3186 - accuracy: 0.8714\n",
            "Epoch 61/150\n",
            "484/484 [==============================] - ETA: 0s - loss: 0.3110 - accuracy: 0.8721\n",
            "Epoch 61: loss did not improve from 0.30221\n",
            "484/484 [==============================] - 8s 16ms/step - loss: 0.3110 - accuracy: 0.8721\n",
            "Epoch 62/150\n",
            "484/484 [==============================] - ETA: 0s - loss: 0.2901 - accuracy: 0.8759\n",
            "Epoch 62: loss improved from 0.30221 to 0.29009, saving model to /content/drive/MyDrive/text_prediction_model/next_words_splitted.h5\n",
            "484/484 [==============================] - 10s 20ms/step - loss: 0.2901 - accuracy: 0.8759\n",
            "Epoch 63/150\n",
            "482/484 [============================>.] - ETA: 0s - loss: 0.2795 - accuracy: 0.8774\n",
            "Epoch 63: loss improved from 0.29009 to 0.27975, saving model to /content/drive/MyDrive/text_prediction_model/next_words_splitted.h5\n",
            "484/484 [==============================] - 8s 17ms/step - loss: 0.2797 - accuracy: 0.8774\n",
            "Epoch 64/150\n",
            "484/484 [==============================] - ETA: 0s - loss: 0.2762 - accuracy: 0.8773\n",
            "Epoch 64: loss improved from 0.27975 to 0.27617, saving model to /content/drive/MyDrive/text_prediction_model/next_words_splitted.h5\n",
            "484/484 [==============================] - 9s 18ms/step - loss: 0.2762 - accuracy: 0.8773\n",
            "Epoch 65/150\n",
            "481/484 [============================>.] - ETA: 0s - loss: 0.2806 - accuracy: 0.8768\n",
            "Epoch 65: loss did not improve from 0.27617\n",
            "484/484 [==============================] - 8s 16ms/step - loss: 0.2808 - accuracy: 0.8767\n",
            "Epoch 66/150\n",
            "481/484 [============================>.] - ETA: 0s - loss: 0.2847 - accuracy: 0.8758\n",
            "Epoch 66: loss did not improve from 0.27617\n",
            "484/484 [==============================] - 8s 16ms/step - loss: 0.2847 - accuracy: 0.8759\n",
            "Epoch 67/150\n",
            "484/484 [==============================] - ETA: 0s - loss: 0.2894 - accuracy: 0.8750\n",
            "Epoch 67: loss did not improve from 0.27617\n",
            "484/484 [==============================] - 7s 15ms/step - loss: 0.2894 - accuracy: 0.8750\n",
            "Epoch 68/150\n",
            "481/484 [============================>.] - ETA: 0s - loss: 0.3072 - accuracy: 0.8699\n",
            "Epoch 68: loss did not improve from 0.27617\n",
            "484/484 [==============================] - 8s 16ms/step - loss: 0.3074 - accuracy: 0.8699\n",
            "Epoch 69/150\n",
            "483/484 [============================>.] - ETA: 0s - loss: 0.3091 - accuracy: 0.8695\n",
            "Epoch 69: loss did not improve from 0.27617\n",
            "484/484 [==============================] - 8s 16ms/step - loss: 0.3091 - accuracy: 0.8696\n",
            "Epoch 70/150\n",
            "484/484 [==============================] - ETA: 0s - loss: 0.2807 - accuracy: 0.8741\n",
            "Epoch 70: loss did not improve from 0.27617\n",
            "484/484 [==============================] - 8s 17ms/step - loss: 0.2807 - accuracy: 0.8741\n",
            "Epoch 71/150\n",
            "483/484 [============================>.] - ETA: 0s - loss: 0.2682 - accuracy: 0.8761\n",
            "Epoch 71: loss improved from 0.27617 to 0.26805, saving model to /content/drive/MyDrive/text_prediction_model/next_words_splitted.h5\n",
            "484/484 [==============================] - 10s 20ms/step - loss: 0.2681 - accuracy: 0.8762\n",
            "Epoch 72/150\n",
            "482/484 [============================>.] - ETA: 0s - loss: 0.2634 - accuracy: 0.8773\n",
            "Epoch 72: loss improved from 0.26805 to 0.26317, saving model to /content/drive/MyDrive/text_prediction_model/next_words_splitted.h5\n",
            "484/484 [==============================] - 9s 18ms/step - loss: 0.2632 - accuracy: 0.8774\n",
            "Epoch 73/150\n",
            "482/484 [============================>.] - ETA: 0s - loss: 0.2592 - accuracy: 0.8776\n",
            "Epoch 73: loss improved from 0.26317 to 0.25937, saving model to /content/drive/MyDrive/text_prediction_model/next_words_splitted.h5\n",
            "484/484 [==============================] - 9s 19ms/step - loss: 0.2594 - accuracy: 0.8775\n",
            "Epoch 74/150\n",
            "484/484 [==============================] - ETA: 0s - loss: 0.2621 - accuracy: 0.8773\n",
            "Epoch 74: loss did not improve from 0.25937\n",
            "484/484 [==============================] - 8s 16ms/step - loss: 0.2621 - accuracy: 0.8773\n",
            "Epoch 75/150\n",
            "482/484 [============================>.] - ETA: 0s - loss: 0.2779 - accuracy: 0.8750\n",
            "Epoch 75: loss did not improve from 0.25937\n",
            "484/484 [==============================] - 8s 17ms/step - loss: 0.2780 - accuracy: 0.8749\n",
            "Epoch 76/150\n",
            "481/484 [============================>.] - ETA: 0s - loss: 0.2950 - accuracy: 0.8710\n",
            "Epoch 76: loss did not improve from 0.25937\n",
            "484/484 [==============================] - 8s 16ms/step - loss: 0.2955 - accuracy: 0.8711\n",
            "Epoch 77/150\n",
            "483/484 [============================>.] - ETA: 0s - loss: 0.2884 - accuracy: 0.8724\n",
            "Epoch 77: loss did not improve from 0.25937\n",
            "484/484 [==============================] - 8s 16ms/step - loss: 0.2886 - accuracy: 0.8723\n",
            "Epoch 78/150\n",
            "481/484 [============================>.] - ETA: 0s - loss: 0.2641 - accuracy: 0.8756\n",
            "Epoch 78: loss did not improve from 0.25937\n",
            "484/484 [==============================] - 8s 17ms/step - loss: 0.2640 - accuracy: 0.8756\n",
            "Epoch 79/150\n",
            "482/484 [============================>.] - ETA: 0s - loss: 0.2496 - accuracy: 0.8785\n",
            "Epoch 79: loss improved from 0.25937 to 0.24964, saving model to /content/drive/MyDrive/text_prediction_model/next_words_splitted.h5\n",
            "484/484 [==============================] - 10s 20ms/step - loss: 0.2496 - accuracy: 0.8785\n",
            "Epoch 80/150\n",
            "481/484 [============================>.] - ETA: 0s - loss: 0.2467 - accuracy: 0.8795\n",
            "Epoch 80: loss improved from 0.24964 to 0.24738, saving model to /content/drive/MyDrive/text_prediction_model/next_words_splitted.h5\n",
            "484/484 [==============================] - 9s 18ms/step - loss: 0.2474 - accuracy: 0.8791\n",
            "Epoch 81/150\n",
            "482/484 [============================>.] - ETA: 0s - loss: 0.2488 - accuracy: 0.8787\n",
            "Epoch 81: loss did not improve from 0.24738\n",
            "484/484 [==============================] - 8s 17ms/step - loss: 0.2489 - accuracy: 0.8786\n",
            "Epoch 82/150\n",
            "484/484 [==============================] - ETA: 0s - loss: 0.2540 - accuracy: 0.8778\n",
            "Epoch 82: loss did not improve from 0.24738\n",
            "484/484 [==============================] - 8s 16ms/step - loss: 0.2540 - accuracy: 0.8778\n",
            "Epoch 83/150\n",
            "482/484 [============================>.] - ETA: 0s - loss: 0.2846 - accuracy: 0.8734\n",
            "Epoch 83: loss did not improve from 0.24738\n",
            "484/484 [==============================] - 8s 16ms/step - loss: 0.2849 - accuracy: 0.8733\n",
            "Epoch 84/150\n",
            "481/484 [============================>.] - ETA: 0s - loss: 0.2933 - accuracy: 0.8715\n",
            "Epoch 84: loss did not improve from 0.24738\n",
            "484/484 [==============================] - 7s 15ms/step - loss: 0.2938 - accuracy: 0.8712\n",
            "Epoch 85/150\n",
            "483/484 [============================>.] - ETA: 0s - loss: 0.2741 - accuracy: 0.8731\n",
            "Epoch 85: loss did not improve from 0.24738\n",
            "484/484 [==============================] - 8s 16ms/step - loss: 0.2741 - accuracy: 0.8731\n",
            "Epoch 86/150\n",
            "484/484 [==============================] - ETA: 0s - loss: 0.2473 - accuracy: 0.8770\n",
            "Epoch 86: loss improved from 0.24738 to 0.24733, saving model to /content/drive/MyDrive/text_prediction_model/next_words_splitted.h5\n",
            "484/484 [==============================] - 10s 20ms/step - loss: 0.2473 - accuracy: 0.8770\n",
            "Epoch 87/150\n",
            "481/484 [============================>.] - ETA: 0s - loss: 0.2458 - accuracy: 0.8772\n",
            "Epoch 87: loss improved from 0.24733 to 0.24602, saving model to /content/drive/MyDrive/text_prediction_model/next_words_splitted.h5\n",
            "484/484 [==============================] - 8s 17ms/step - loss: 0.2460 - accuracy: 0.8771\n",
            "Epoch 88/150\n",
            "483/484 [============================>.] - ETA: 0s - loss: 0.2443 - accuracy: 0.8787\n",
            "Epoch 88: loss improved from 0.24602 to 0.24427, saving model to /content/drive/MyDrive/text_prediction_model/next_words_splitted.h5\n",
            "484/484 [==============================] - 9s 18ms/step - loss: 0.2443 - accuracy: 0.8787\n",
            "Epoch 89/150\n",
            "484/484 [==============================] - ETA: 0s - loss: 0.2411 - accuracy: 0.8785\n",
            "Epoch 89: loss improved from 0.24427 to 0.24113, saving model to /content/drive/MyDrive/text_prediction_model/next_words_splitted.h5\n",
            "484/484 [==============================] - 8s 17ms/step - loss: 0.2411 - accuracy: 0.8785\n",
            "Epoch 90/150\n",
            "481/484 [============================>.] - ETA: 0s - loss: 0.2464 - accuracy: 0.8779\n",
            "Epoch 90: loss did not improve from 0.24113\n",
            "484/484 [==============================] - 8s 16ms/step - loss: 0.2462 - accuracy: 0.8779\n",
            "Epoch 91/150\n",
            "483/484 [============================>.] - ETA: 0s - loss: 0.2629 - accuracy: 0.8746\n",
            "Epoch 91: loss did not improve from 0.24113\n",
            "484/484 [==============================] - 8s 16ms/step - loss: 0.2628 - accuracy: 0.8746\n",
            "Epoch 92/150\n",
            "482/484 [============================>.] - ETA: 0s - loss: 0.2734 - accuracy: 0.8727\n",
            "Epoch 92: loss did not improve from 0.24113\n",
            "484/484 [==============================] - 8s 16ms/step - loss: 0.2737 - accuracy: 0.8726\n",
            "Epoch 93/150\n",
            "484/484 [==============================] - ETA: 0s - loss: 0.2548 - accuracy: 0.8777\n",
            "Epoch 93: loss did not improve from 0.24113\n",
            "484/484 [==============================] - 8s 16ms/step - loss: 0.2548 - accuracy: 0.8777\n",
            "Epoch 94/150\n",
            "481/484 [============================>.] - ETA: 0s - loss: 0.2392 - accuracy: 0.8794\n",
            "Epoch 94: loss improved from 0.24113 to 0.23946, saving model to /content/drive/MyDrive/text_prediction_model/next_words_splitted.h5\n",
            "484/484 [==============================] - 9s 20ms/step - loss: 0.2395 - accuracy: 0.8793\n",
            "Epoch 95/150\n",
            "483/484 [============================>.] - ETA: 0s - loss: 0.2361 - accuracy: 0.8790\n",
            "Epoch 95: loss improved from 0.23946 to 0.23604, saving model to /content/drive/MyDrive/text_prediction_model/next_words_splitted.h5\n",
            "484/484 [==============================] - 9s 18ms/step - loss: 0.2360 - accuracy: 0.8791\n",
            "Epoch 96/150\n",
            "483/484 [============================>.] - ETA: 0s - loss: 0.2326 - accuracy: 0.8797\n",
            "Epoch 96: loss improved from 0.23604 to 0.23261, saving model to /content/drive/MyDrive/text_prediction_model/next_words_splitted.h5\n",
            "484/484 [==============================] - 9s 18ms/step - loss: 0.2326 - accuracy: 0.8797\n",
            "Epoch 97/150\n",
            "482/484 [============================>.] - ETA: 0s - loss: 0.2365 - accuracy: 0.8786\n",
            "Epoch 97: loss did not improve from 0.23261\n",
            "484/484 [==============================] - 8s 16ms/step - loss: 0.2367 - accuracy: 0.8785\n",
            "Epoch 98/150\n",
            "481/484 [============================>.] - ETA: 0s - loss: 0.2453 - accuracy: 0.8776\n",
            "Epoch 98: loss did not improve from 0.23261\n",
            "484/484 [==============================] - 8s 17ms/step - loss: 0.2455 - accuracy: 0.8775\n",
            "Epoch 99/150\n",
            "483/484 [============================>.] - ETA: 0s - loss: 0.2812 - accuracy: 0.8717\n",
            "Epoch 99: loss did not improve from 0.23261\n",
            "484/484 [==============================] - 7s 15ms/step - loss: 0.2812 - accuracy: 0.8717\n",
            "Epoch 100/150\n",
            "484/484 [==============================] - ETA: 0s - loss: 0.2845 - accuracy: 0.8707\n",
            "Epoch 100: loss did not improve from 0.23261\n",
            "484/484 [==============================] - 8s 16ms/step - loss: 0.2845 - accuracy: 0.8707\n",
            "Epoch 101/150\n",
            "481/484 [============================>.] - ETA: 0s - loss: 0.2459 - accuracy: 0.8765\n",
            "Epoch 101: loss did not improve from 0.23261\n",
            "484/484 [==============================] - 8s 15ms/step - loss: 0.2461 - accuracy: 0.8764\n",
            "Epoch 102/150\n",
            "484/484 [==============================] - ETA: 0s - loss: 0.2313 - accuracy: 0.8793\n",
            "Epoch 102: loss improved from 0.23261 to 0.23131, saving model to /content/drive/MyDrive/text_prediction_model/next_words_splitted.h5\n",
            "484/484 [==============================] - 10s 21ms/step - loss: 0.2313 - accuracy: 0.8793\n",
            "Epoch 103/150\n",
            "483/484 [============================>.] - ETA: 0s - loss: 0.2258 - accuracy: 0.8799\n",
            "Epoch 103: loss improved from 0.23131 to 0.22582, saving model to /content/drive/MyDrive/text_prediction_model/next_words_splitted.h5\n",
            "484/484 [==============================] - 9s 18ms/step - loss: 0.2258 - accuracy: 0.8798\n",
            "Epoch 104/150\n",
            "483/484 [============================>.] - ETA: 0s - loss: 0.2217 - accuracy: 0.8801\n",
            "Epoch 104: loss improved from 0.22582 to 0.22164, saving model to /content/drive/MyDrive/text_prediction_model/next_words_splitted.h5\n",
            "484/484 [==============================] - 8s 17ms/step - loss: 0.2216 - accuracy: 0.8801\n",
            "Epoch 105/150\n",
            "482/484 [============================>.] - ETA: 0s - loss: 0.2243 - accuracy: 0.8793\n",
            "Epoch 105: loss did not improve from 0.22164\n",
            "484/484 [==============================] - 8s 16ms/step - loss: 0.2243 - accuracy: 0.8793\n",
            "Epoch 106/150\n",
            "482/484 [============================>.] - ETA: 0s - loss: 0.2277 - accuracy: 0.8791\n",
            "Epoch 106: loss did not improve from 0.22164\n",
            "484/484 [==============================] - 8s 16ms/step - loss: 0.2277 - accuracy: 0.8791\n",
            "Epoch 107/150\n",
            "482/484 [============================>.] - ETA: 0s - loss: 0.2463 - accuracy: 0.8776\n",
            "Epoch 107: loss did not improve from 0.22164\n",
            "484/484 [==============================] - 8s 16ms/step - loss: 0.2469 - accuracy: 0.8774\n",
            "Epoch 108/150\n",
            "482/484 [============================>.] - ETA: 0s - loss: 0.2934 - accuracy: 0.8686\n",
            "Epoch 108: loss did not improve from 0.22164\n",
            "484/484 [==============================] - 8s 16ms/step - loss: 0.2936 - accuracy: 0.8685\n",
            "Epoch 109/150\n",
            "483/484 [============================>.] - ETA: 0s - loss: 0.2561 - accuracy: 0.8753\n",
            "Epoch 109: loss did not improve from 0.22164\n",
            "484/484 [==============================] - 7s 15ms/step - loss: 0.2561 - accuracy: 0.8753\n",
            "Epoch 110/150\n",
            "484/484 [==============================] - ETA: 0s - loss: 0.2290 - accuracy: 0.8782\n",
            "Epoch 110: loss did not improve from 0.22164\n",
            "484/484 [==============================] - 8s 16ms/step - loss: 0.2290 - accuracy: 0.8782\n",
            "Epoch 111/150\n",
            "483/484 [============================>.] - ETA: 0s - loss: 0.2209 - accuracy: 0.8794\n",
            "Epoch 111: loss improved from 0.22164 to 0.22082, saving model to /content/drive/MyDrive/text_prediction_model/next_words_splitted.h5\n",
            "484/484 [==============================] - 10s 21ms/step - loss: 0.2208 - accuracy: 0.8795\n",
            "Epoch 112/150\n",
            "481/484 [============================>.] - ETA: 0s - loss: 0.2187 - accuracy: 0.8815\n",
            "Epoch 112: loss improved from 0.22082 to 0.21849, saving model to /content/drive/MyDrive/text_prediction_model/next_words_splitted.h5\n",
            "484/484 [==============================] - 8s 17ms/step - loss: 0.2185 - accuracy: 0.8816\n",
            "Epoch 113/150\n",
            "484/484 [==============================] - ETA: 0s - loss: 0.2202 - accuracy: 0.8802\n",
            "Epoch 113: loss did not improve from 0.21849\n",
            "484/484 [==============================] - 8s 17ms/step - loss: 0.2202 - accuracy: 0.8802\n",
            "Epoch 114/150\n",
            "483/484 [============================>.] - ETA: 0s - loss: 0.2264 - accuracy: 0.8797\n",
            "Epoch 114: loss did not improve from 0.21849\n",
            "484/484 [==============================] - 8s 16ms/step - loss: 0.2264 - accuracy: 0.8797\n",
            "Epoch 115/150\n",
            "481/484 [============================>.] - ETA: 0s - loss: 0.2707 - accuracy: 0.8742\n",
            "Epoch 115: loss did not improve from 0.21849\n",
            "484/484 [==============================] - 8s 16ms/step - loss: 0.2709 - accuracy: 0.8741\n",
            "Epoch 116/150\n",
            "483/484 [============================>.] - ETA: 0s - loss: 0.2688 - accuracy: 0.8734\n",
            "Epoch 116: loss did not improve from 0.21849\n",
            "484/484 [==============================] - 7s 15ms/step - loss: 0.2688 - accuracy: 0.8733\n",
            "Epoch 117/150\n",
            "481/484 [============================>.] - ETA: 0s - loss: 0.2388 - accuracy: 0.8788\n",
            "Epoch 117: loss did not improve from 0.21849\n",
            "484/484 [==============================] - 8s 16ms/step - loss: 0.2389 - accuracy: 0.8786\n",
            "Epoch 118/150\n",
            "481/484 [============================>.] - ETA: 0s - loss: 0.2232 - accuracy: 0.8794\n",
            "Epoch 118: loss did not improve from 0.21849\n",
            "484/484 [==============================] - 8s 16ms/step - loss: 0.2232 - accuracy: 0.8793\n",
            "Epoch 119/150\n",
            "483/484 [============================>.] - ETA: 0s - loss: 0.2211 - accuracy: 0.8792\n",
            "Epoch 119: loss did not improve from 0.21849\n",
            "484/484 [==============================] - 8s 16ms/step - loss: 0.2212 - accuracy: 0.8792\n",
            "Epoch 120/150\n",
            "484/484 [==============================] - ETA: 0s - loss: 0.2208 - accuracy: 0.8789\n",
            "Epoch 120: loss did not improve from 0.21849\n",
            "484/484 [==============================] - 8s 17ms/step - loss: 0.2208 - accuracy: 0.8789\n",
            "Epoch 121/150\n",
            "483/484 [============================>.] - ETA: 0s - loss: 0.2195 - accuracy: 0.8815\n",
            "Epoch 121: loss did not improve from 0.21849\n",
            "484/484 [==============================] - 8s 16ms/step - loss: 0.2194 - accuracy: 0.8815\n",
            "Epoch 122/150\n",
            "484/484 [==============================] - ETA: 0s - loss: 0.2176 - accuracy: 0.8805\n",
            "Epoch 122: loss improved from 0.21849 to 0.21761, saving model to /content/drive/MyDrive/text_prediction_model/next_words_splitted.h5\n",
            "484/484 [==============================] - 10s 20ms/step - loss: 0.2176 - accuracy: 0.8805\n",
            "Epoch 123/150\n",
            "484/484 [==============================] - ETA: 0s - loss: 0.2199 - accuracy: 0.8801\n",
            "Epoch 123: loss did not improve from 0.21761\n",
            "484/484 [==============================] - 8s 16ms/step - loss: 0.2199 - accuracy: 0.8801\n",
            "Epoch 124/150\n",
            "482/484 [============================>.] - ETA: 0s - loss: 0.2244 - accuracy: 0.8801\n",
            "Epoch 124: loss did not improve from 0.21761\n",
            "484/484 [==============================] - 8s 16ms/step - loss: 0.2245 - accuracy: 0.8800\n",
            "Epoch 125/150\n",
            "482/484 [============================>.] - ETA: 0s - loss: 0.2786 - accuracy: 0.8700\n",
            "Epoch 125: loss did not improve from 0.21761\n",
            "484/484 [==============================] - 8s 16ms/step - loss: 0.2792 - accuracy: 0.8697\n",
            "Epoch 126/150\n",
            "481/484 [============================>.] - ETA: 0s - loss: 0.2759 - accuracy: 0.8704\n",
            "Epoch 126: loss did not improve from 0.21761\n",
            "484/484 [==============================] - 7s 15ms/step - loss: 0.2756 - accuracy: 0.8705\n",
            "Epoch 127/150\n",
            "482/484 [============================>.] - ETA: 0s - loss: 0.2262 - accuracy: 0.8796\n",
            "Epoch 127: loss did not improve from 0.21761\n",
            "484/484 [==============================] - 8s 16ms/step - loss: 0.2262 - accuracy: 0.8796\n",
            "Epoch 128/150\n",
            "483/484 [============================>.] - ETA: 0s - loss: 0.2117 - accuracy: 0.8804\n",
            "Epoch 128: loss improved from 0.21761 to 0.21168, saving model to /content/drive/MyDrive/text_prediction_model/next_words_splitted.h5\n",
            "484/484 [==============================] - 12s 24ms/step - loss: 0.2117 - accuracy: 0.8804\n",
            "Epoch 129/150\n",
            "481/484 [============================>.] - ETA: 0s - loss: 0.2085 - accuracy: 0.8809\n",
            "Epoch 129: loss improved from 0.21168 to 0.20864, saving model to /content/drive/MyDrive/text_prediction_model/next_words_splitted.h5\n",
            "484/484 [==============================] - 8s 17ms/step - loss: 0.2086 - accuracy: 0.8809\n",
            "Epoch 130/150\n",
            "482/484 [============================>.] - ETA: 0s - loss: 0.2087 - accuracy: 0.8809\n",
            "Epoch 130: loss did not improve from 0.20864\n",
            "484/484 [==============================] - 8s 16ms/step - loss: 0.2086 - accuracy: 0.8809\n",
            "Epoch 131/150\n",
            "483/484 [============================>.] - ETA: 0s - loss: 0.2096 - accuracy: 0.8823\n",
            "Epoch 131: loss did not improve from 0.20864\n",
            "484/484 [==============================] - 8s 16ms/step - loss: 0.2096 - accuracy: 0.8823\n",
            "Epoch 132/150\n",
            "483/484 [============================>.] - ETA: 0s - loss: 0.2126 - accuracy: 0.8798\n",
            "Epoch 132: loss did not improve from 0.20864\n",
            "484/484 [==============================] - 8s 16ms/step - loss: 0.2127 - accuracy: 0.8797\n",
            "Epoch 133/150\n",
            "483/484 [============================>.] - ETA: 0s - loss: 0.2181 - accuracy: 0.8816\n",
            "Epoch 133: loss did not improve from 0.20864\n",
            "484/484 [==============================] - 8s 16ms/step - loss: 0.2182 - accuracy: 0.8815\n",
            "Epoch 134/150\n",
            "483/484 [============================>.] - ETA: 0s - loss: 0.2340 - accuracy: 0.8774\n",
            "Epoch 134: loss did not improve from 0.20864\n",
            "484/484 [==============================] - 7s 15ms/step - loss: 0.2340 - accuracy: 0.8775\n",
            "Epoch 135/150\n",
            "484/484 [==============================] - ETA: 0s - loss: 0.2851 - accuracy: 0.8696\n",
            "Epoch 135: loss did not improve from 0.20864\n",
            "484/484 [==============================] - 8s 16ms/step - loss: 0.2851 - accuracy: 0.8696\n",
            "Epoch 136/150\n",
            "484/484 [==============================] - ETA: 0s - loss: 0.2638 - accuracy: 0.8730\n",
            "Epoch 136: loss did not improve from 0.20864\n",
            "484/484 [==============================] - 7s 15ms/step - loss: 0.2638 - accuracy: 0.8730\n",
            "Epoch 137/150\n",
            "483/484 [============================>.] - ETA: 0s - loss: 0.2201 - accuracy: 0.8785\n",
            "Epoch 137: loss did not improve from 0.20864\n",
            "484/484 [==============================] - 8s 16ms/step - loss: 0.2201 - accuracy: 0.8785\n",
            "Epoch 138/150\n",
            "484/484 [==============================] - ETA: 0s - loss: 0.2105 - accuracy: 0.8818\n",
            "Epoch 138: loss did not improve from 0.20864\n",
            "484/484 [==============================] - 7s 15ms/step - loss: 0.2105 - accuracy: 0.8818\n",
            "Epoch 139/150\n",
            "481/484 [============================>.] - ETA: 0s - loss: 0.2049 - accuracy: 0.8822\n",
            "Epoch 139: loss improved from 0.20864 to 0.20486, saving model to /content/drive/MyDrive/text_prediction_model/next_words_splitted.h5\n",
            "484/484 [==============================] - 9s 20ms/step - loss: 0.2049 - accuracy: 0.8822\n",
            "Epoch 140/150\n",
            "483/484 [============================>.] - ETA: 0s - loss: 0.2056 - accuracy: 0.8811\n",
            "Epoch 140: loss did not improve from 0.20486\n",
            "484/484 [==============================] - 8s 16ms/step - loss: 0.2057 - accuracy: 0.8811\n",
            "Epoch 141/150\n",
            "483/484 [============================>.] - ETA: 0s - loss: 0.2058 - accuracy: 0.8807\n",
            "Epoch 141: loss did not improve from 0.20486\n",
            "484/484 [==============================] - 8s 16ms/step - loss: 0.2058 - accuracy: 0.8807\n",
            "Epoch 142/150\n",
            "483/484 [============================>.] - ETA: 0s - loss: 0.2089 - accuracy: 0.8818\n",
            "Epoch 142: loss did not improve from 0.20486\n",
            "484/484 [==============================] - 8s 16ms/step - loss: 0.2090 - accuracy: 0.8817\n",
            "Epoch 143/150\n",
            "483/484 [============================>.] - ETA: 0s - loss: 0.2150 - accuracy: 0.8802\n",
            "Epoch 143: loss did not improve from 0.20486\n",
            "484/484 [==============================] - 7s 15ms/step - loss: 0.2150 - accuracy: 0.8802\n",
            "Epoch 144/150\n",
            "482/484 [============================>.] - ETA: 0s - loss: 0.2611 - accuracy: 0.8735\n",
            "Epoch 144: loss did not improve from 0.20486\n",
            "484/484 [==============================] - 8s 16ms/step - loss: 0.2615 - accuracy: 0.8732\n",
            "Epoch 145/150\n",
            "483/484 [============================>.] - ETA: 0s - loss: 0.2826 - accuracy: 0.8695\n",
            "Epoch 145: loss did not improve from 0.20486\n",
            "484/484 [==============================] - 8s 16ms/step - loss: 0.2827 - accuracy: 0.8695\n",
            "Epoch 146/150\n",
            "484/484 [==============================] - ETA: 0s - loss: 0.2275 - accuracy: 0.8799\n",
            "Epoch 146: loss did not improve from 0.20486\n",
            "484/484 [==============================] - 8s 16ms/step - loss: 0.2275 - accuracy: 0.8799\n",
            "Epoch 147/150\n",
            "482/484 [============================>.] - ETA: 0s - loss: 0.2100 - accuracy: 0.8809\n",
            "Epoch 147: loss did not improve from 0.20486\n",
            "484/484 [==============================] - 8s 16ms/step - loss: 0.2100 - accuracy: 0.8809\n",
            "Epoch 148/150\n",
            "482/484 [============================>.] - ETA: 0s - loss: 0.2071 - accuracy: 0.8812\n",
            "Epoch 148: loss did not improve from 0.20486\n",
            "484/484 [==============================] - 8s 16ms/step - loss: 0.2070 - accuracy: 0.8812\n",
            "Epoch 149/150\n",
            "484/484 [==============================] - ETA: 0s - loss: 0.2080 - accuracy: 0.8802\n",
            "Epoch 149: loss did not improve from 0.20486\n",
            "484/484 [==============================] - 8s 17ms/step - loss: 0.2080 - accuracy: 0.8802\n",
            "Epoch 150/150\n",
            "482/484 [============================>.] - ETA: 0s - loss: 0.2084 - accuracy: 0.8813\n",
            "Epoch 150: loss did not improve from 0.20486\n",
            "484/484 [==============================] - 8s 16ms/step - loss: 0.2082 - accuracy: 0.8813\n"
          ]
        }
      ]
    },
    {
      "cell_type": "code",
      "source": [
        "import matplotlib.pyplot as plt\n",
        "\n",
        "# Find the epoch with the best validation accuracy\n",
        "best_acc_epoch = history.history['accuracy'].index(max(history.history['accuracy'])) + 1  # Adding 1 since epochs are 1-indexed\n",
        "best_acc_value = max(history.history['accuracy'])\n",
        "\n",
        "# Find the epoch with the best validation loss\n",
        "best_loss_epoch = history.history['loss'].index(min(history.history['loss'])) + 1  # Adding 1 since epochs are 1-indexed\n",
        "best_loss_value = min(history.history['loss'])\n",
        "\n",
        "# Plotting the training history\n",
        "plt.figure(figsize=(12, 6))\n",
        "\n",
        "# Plot training accuracy values\n",
        "plt.subplot(1, 2, 1)\n",
        "plt.plot(history.history['accuracy'])\n",
        "plt.title('Model Accuracy')\n",
        "plt.xlabel('Epoch')\n",
        "plt.ylabel('Accuracy')\n",
        "plt.axvline(x=best_acc_epoch, color='r', linestyle='--', label=f'Best Acc Epoch: {best_acc_epoch}')\n",
        "plt.text(best_acc_epoch, best_acc_value, f'{best_acc_value:.4f}', ha='center', va='bottom', color='r')\n",
        "plt.legend()\n",
        "\n",
        "# Plot training loss values\n",
        "plt.subplot(1, 2, 2)\n",
        "plt.plot(history.history['loss'])\n",
        "plt.title('Model Loss')\n",
        "plt.xlabel('Epoch')\n",
        "plt.ylabel('Loss')\n",
        "plt.axvline(x=best_loss_epoch, color='r', linestyle='--', label=f'Best Loss Epoch: {best_loss_epoch}')\n",
        "plt.text(best_loss_epoch, best_loss_value, f'{best_loss_value:.4f}', ha='center', va='bottom', color='r')\n",
        "plt.legend()\n",
        "\n",
        "# Show the plot\n",
        "plt.show()"
      ],
      "metadata": {
        "colab": {
          "base_uri": "https://localhost:8080/",
          "height": 564
        },
        "id": "5gEwaFSQwwYP",
        "outputId": "6aa52c0f-8a9b-4fbe-c9c7-765e9a82af87"
      },
      "execution_count": 14,
      "outputs": [
        {
          "output_type": "display_data",
          "data": {
            "text/plain": [
              "<Figure size 1200x600 with 2 Axes>"
            ],
            "image/png": "[encoded data removed]"
          },
          "metadata": {}
        }
      ]
    },
    {
      "cell_type": "code",
      "source": [
        "from keras.models import load_model\n",
        "import numpy as np\n",
        "import pickle\n",
        "\n",
        "# Load the model and tokenizer\n",
        "model = load_model('/content/drive/MyDrive/text_prediction_model/next_words_splitted.h5')\n",
        "tokenizer = pickle.load(open('/content/drive/MyDrive/text_prediction_model/token.pkl', 'rb'))"
      ],
      "metadata": {
        "id": "uP_1HUau-bDp"
      },
      "execution_count": null,
      "outputs": []
    },
    {
      "cell_type": "code",
      "source": [
        "from sklearn.metrics import accuracy_score\n",
        "\n",
        "# Make predictions on the test data\n",
        "y_pred = model.predict(x_test)\n",
        "\n",
        "# Convert one-hot encoded y_test to class labels\n",
        "y_test_labels = np.argmax(y_test, axis=1)\n",
        "\n",
        "# Convert probability predictions to class labels\n",
        "y_pred_labels = np.argmax(y_pred, axis=1)\n",
        "\n",
        "accuracy = accuracy_score(y_test_labels, y_pred_labels)\n",
        "\n",
        "# Print the evaluation results\n",
        "print(\"Accuracy:\", accuracy)"
      ],
      "metadata": {
        "colab": {
          "base_uri": "https://localhost:8080/"
        },
        "id": "YIqkpmeiE7B7",
        "outputId": "bdd4839d-fdc3-4d56-902b-2dcffd638884"
      },
      "execution_count": 22,
      "outputs": [
        {
          "output_type": "stream",
          "name": "stdout",
          "text": [
            "97/97 [==============================] - 1s 5ms/step\n",
            "Accuracy: 0.9043000323310701\n"
          ]
        }
      ]
    },
    {
      "cell_type": "code",
      "source": [
        "print(y_test[:10])\n",
        "print(y_pred[:10])"
      ],
      "metadata": {
        "colab": {
          "base_uri": "https://localhost:8080/"
        },
        "id": "lgJURCwvP9bj",
        "outputId": "bfb729e7-ce60-4118-9f3f-ca67ef4575b8"
      },
      "execution_count": 19,
      "outputs": [
        {
          "output_type": "stream",
          "name": "stdout",
          "text": [
            "[[0. 0. 0. ... 0. 0. 0.]\n",
            " [0. 0. 0. ... 0. 0. 0.]\n",
            " [0. 0. 0. ... 0. 0. 0.]\n",
            " ...\n",
            " [0. 1. 0. ... 0. 0. 0.]\n",
            " [0. 0. 0. ... 0. 0. 0.]\n",
            " [0. 0. 0. ... 0. 0. 0.]]\n",
            "[[5.7383657e-17 2.6291311e-09 6.6533595e-13 ... 2.3473307e-20\n",
            "  4.5887731e-20 6.7710060e-22]\n",
            " [2.3338775e-16 6.4281903e-06 5.4717443e-08 ... 5.5549976e-19\n",
            "  1.6126905e-20 2.6600554e-19]\n",
            " [2.1858378e-11 1.3261940e-03 1.9901752e-07 ... 9.6747773e-13\n",
            "  3.5136163e-13 8.4934246e-13]\n",
            " ...\n",
            " [0.0000000e+00 1.0000000e+00 4.9491785e-35 ... 0.0000000e+00\n",
            "  0.0000000e+00 0.0000000e+00]\n",
            " [4.1950840e-26 8.2228705e-15 1.4045721e-25 ... 0.0000000e+00\n",
            "  0.0000000e+00 0.0000000e+00]\n",
            " [2.8791878e-12 1.0619072e-07 2.0237680e-07 ... 2.8634640e-16\n",
            "  2.6794154e-17 1.7979861e-13]]\n"
          ]
        }
      ]
    },
    {
      "cell_type": "code",
      "source": [
        "def Predict_Next_Words(model, tokenizer, text):\n",
        "\n",
        "  sequence = tokenizer.texts_to_sequences([text])\n",
        "  sequence = np.array(sequence)\n",
        "  preds = np.argmax(model.predict(sequence))\n",
        "  predicted_word = \"\"\n",
        "\n",
        "  for key, value in tokenizer.word_index.items():\n",
        "      if value == preds:\n",
        "          predicted_word = key\n",
        "          break\n",
        "\n",
        "  return predicted_word"
      ],
      "metadata": {
        "id": "dR-npaGUA_RP"
      },
      "execution_count": 23,
      "outputs": []
    },
    {
      "cell_type": "code",
      "source": [
        "while(True):\n",
        "  text = input(\"Enter your Text: \")\n",
        "\n",
        "  if text == \"0\":\n",
        "      print(\"Execution completed.....\")\n",
        "      break\n",
        "\n",
        "  else:\n",
        "      try:\n",
        "          text = text.split(\" \")\n",
        "          text = text[-3:]\n",
        "          text=\" \".join(text)\n",
        "          print(f\"last 3 words are: {text} \")\n",
        "\n",
        "\n",
        "          print(f\"predicted word is: {Predict_Next_Words(model, tokenizer, text)} \")\n",
        "\n",
        "      except Exception as e:\n",
        "        print(\"Error occurred: \",e)\n",
        "        continue"
      ],
      "metadata": {
        "colab": {
          "base_uri": "https://localhost:8080/"
        },
        "id": "Xz2UMSnBIcTF",
        "outputId": "b69641a3-c277-43b9-d54d-1f6cdca8c72b"
      },
      "execution_count": 24,
      "outputs": [
        {
          "output_type": "stream",
          "name": "stdout",
          "text": [
            "Enter your Text: mad with grief at losing\n",
            "last 3 words are: grief at losing \n",
            "1/1 [==============================] - 0s 91ms/step\n",
            "predicted word is: cosette \n",
            "Enter your Text: His anger and misery of\n",
            "last 3 words are: and misery of \n",
            "1/1 [==============================] - 0s 21ms/step\n",
            "predicted word is: minutes \n",
            "Enter your Text: Standing beside her on the\n",
            "last 3 words are: her on the \n",
            "1/1 [==============================] - 0s 19ms/step\n",
            "predicted word is: bench \n",
            "Enter your Text: Valjean told him everything about his\n",
            "last 3 words are: everything about his \n",
            "1/1 [==============================] - 0s 28ms/step\n",
            "predicted word is: life \n",
            "Enter your Text: 0\n",
            "Execution completed.....\n"
          ]
        }
      ]
    }
  ]
}